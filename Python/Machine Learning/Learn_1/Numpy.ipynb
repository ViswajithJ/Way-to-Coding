{
  "nbformat": 4,
  "nbformat_minor": 0,
  "metadata": {
    "colab": {
      "provenance": []
    },
    "kernelspec": {
      "name": "python3",
      "display_name": "Python 3"
    },
    "language_info": {
      "name": "python"
    }
  },
  "cells": [
    {
      "cell_type": "code",
      "execution_count": 2,
      "metadata": {
        "id": "v7lfwzzCzLwl"
      },
      "outputs": [],
      "source": [
        "import numpy as np"
      ]
    },
    {
      "cell_type": "code",
      "source": [
        "data_list = [1,2,3,4]\n",
        "array = np.array(data_list)\n",
        "print(array)"
      ],
      "metadata": {
        "colab": {
          "base_uri": "https://localhost:8080/"
        },
        "id": "Bb55Sij4zlIA",
        "outputId": "b64969b7-9f77-4ff0-9f5b-2a973d52ee70"
      },
      "execution_count": 3,
      "outputs": [
        {
          "output_type": "stream",
          "name": "stdout",
          "text": [
            "[1 2 3 4]\n"
          ]
        }
      ]
    },
    {
      "cell_type": "code",
      "source": [
        "data_list = [[1,2,3],[4,5,6],[7,8,9]]\n",
        "array = np.array(data_list)\n",
        "print(array)\n",
        "print(array.shape)"
      ],
      "metadata": {
        "colab": {
          "base_uri": "https://localhost:8080/"
        },
        "id": "hagGJjyMR2wa",
        "outputId": "94d161ab-6a6a-425b-fdb5-bb2b4edc3397"
      },
      "execution_count": 4,
      "outputs": [
        {
          "output_type": "stream",
          "name": "stdout",
          "text": [
            "[[1 2 3]\n",
            " [4 5 6]\n",
            " [7 8 9]]\n",
            "(3, 3)\n"
          ]
        }
      ]
    },
    {
      "cell_type": "code",
      "source": [
        "# like range()\n",
        "# start,stop,step\n",
        "np.arange(0,10)\n",
        "np.arange(0,10,2)\n"
      ],
      "metadata": {
        "colab": {
          "base_uri": "https://localhost:8080/"
        },
        "id": "DebmFAp7SUzn",
        "outputId": "9b683018-eff5-4b03-eab9-db9ef9e23def"
      },
      "execution_count": 5,
      "outputs": [
        {
          "output_type": "execute_result",
          "data": {
            "text/plain": [
              "array([0, 2, 4, 6, 8])"
            ]
          },
          "metadata": {},
          "execution_count": 5
        }
      ]
    },
    {
      "cell_type": "code",
      "source": [
        "np.zeros(3)\n",
        "np.zeros((3,4))\n",
        "np.ones(4)"
      ],
      "metadata": {
        "colab": {
          "base_uri": "https://localhost:8080/"
        },
        "id": "UNYKdvsxSudq",
        "outputId": "36d3199a-ca0e-4b3d-dc0e-89249b00b027"
      },
      "execution_count": 6,
      "outputs": [
        {
          "output_type": "execute_result",
          "data": {
            "text/plain": [
              "array([1., 1., 1., 1.])"
            ]
          },
          "metadata": {},
          "execution_count": 6
        }
      ]
    },
    {
      "cell_type": "code",
      "source": [
        "# Return evenly spaced numbers over a specified interval\n",
        "np.linspace(1,5,5)"
      ],
      "metadata": {
        "colab": {
          "base_uri": "https://localhost:8080/"
        },
        "id": "6u0V4bMoTC4U",
        "outputId": "fba9b315-cf13-4222-aad1-171b3b8462dc"
      },
      "execution_count": 7,
      "outputs": [
        {
          "output_type": "execute_result",
          "data": {
            "text/plain": [
              "array([1., 2., 3., 4., 5.])"
            ]
          },
          "metadata": {},
          "execution_count": 7
        }
      ]
    },
    {
      "cell_type": "code",
      "source": [
        "#  identity matrix\n",
        "np.eye(3)"
      ],
      "metadata": {
        "colab": {
          "base_uri": "https://localhost:8080/"
        },
        "id": "m6wGlK0AT39I",
        "outputId": "3a8f9083-b180-4f36-a503-1c409490880e"
      },
      "execution_count": 8,
      "outputs": [
        {
          "output_type": "execute_result",
          "data": {
            "text/plain": [
              "array([[1., 0., 0.],\n",
              "       [0., 1., 0.],\n",
              "       [0., 0., 1.]])"
            ]
          },
          "metadata": {},
          "execution_count": 8
        }
      ]
    },
    {
      "cell_type": "code",
      "source": [
        "# This function generates random numbers from a uniform distribution between 0 and 1.\n",
        "\n",
        "np.random.rand(5)\n",
        "np.random.rand(5,5)\n",
        "\n",
        "# This function generates random numbers from a standard normal distribution (mean 0, variance 1).\n",
        "np.random.randn(6)\n",
        "\n",
        "np.random.randint(1,10,5)"
      ],
      "metadata": {
        "colab": {
          "base_uri": "https://localhost:8080/"
        },
        "id": "IB2IzDksUHso",
        "outputId": "45fe30d9-cfc1-477b-8513-25d926a0f25a"
      },
      "execution_count": 9,
      "outputs": [
        {
          "output_type": "execute_result",
          "data": {
            "text/plain": [
              "array([9, 7, 4, 2, 4])"
            ]
          },
          "metadata": {},
          "execution_count": 9
        }
      ]
    },
    {
      "cell_type": "code",
      "source": [
        "data_list = [[1,2,3],[4,5,6],[7,8,9]]\n",
        "array = np.array(data_list)\n",
        "print(array)\n",
        "\n",
        "array.reshape(1,9)"
      ],
      "metadata": {
        "colab": {
          "base_uri": "https://localhost:8080/"
        },
        "id": "yAzBHjheWuo0",
        "outputId": "0498eafe-8069-47e5-c81d-2380a6f8b56d"
      },
      "execution_count": 10,
      "outputs": [
        {
          "output_type": "stream",
          "name": "stdout",
          "text": [
            "[[1 2 3]\n",
            " [4 5 6]\n",
            " [7 8 9]]\n"
          ]
        },
        {
          "output_type": "execute_result",
          "data": {
            "text/plain": [
              "array([[1, 2, 3, 4, 5, 6, 7, 8, 9]])"
            ]
          },
          "metadata": {},
          "execution_count": 10
        }
      ]
    },
    {
      "cell_type": "code",
      "source": [
        "array.max()\n",
        "array.min()\n",
        "\n",
        "# location of max value\n",
        "array.argmax()\n",
        "# location of min value\n",
        "array.argmin()\n",
        "# shape\n",
        "array.shape\n",
        "# type\n",
        "array.dtype"
      ],
      "metadata": {
        "colab": {
          "base_uri": "https://localhost:8080/"
        },
        "id": "mRlGRuXbXln9",
        "outputId": "2e544d8d-37aa-4e2f-a8e9-844fcc08c832"
      },
      "execution_count": 11,
      "outputs": [
        {
          "output_type": "execute_result",
          "data": {
            "text/plain": [
              "dtype('int64')"
            ]
          },
          "metadata": {},
          "execution_count": 11
        }
      ]
    },
    {
      "cell_type": "code",
      "source": [
        "array = np.arange(0,11)\n",
        "# indexing\n",
        "print(array[0])\n",
        "# slicing\n",
        "print(array[0:3])\n",
        "# replace values with 100\n",
        "array[0:3] = 100\n",
        "print(array)\n",
        "# replace values with 0\n",
        "array[:] = 0\n",
        "print(array)"
      ],
      "metadata": {
        "colab": {
          "base_uri": "https://localhost:8080/"
        },
        "id": "JR7LKn1sZUvW",
        "outputId": "a3423278-3ab3-429b-887b-1ffa9134fe0e"
      },
      "execution_count": 12,
      "outputs": [
        {
          "output_type": "stream",
          "name": "stdout",
          "text": [
            "0\n",
            "[0 1 2]\n",
            "[100 100 100   3   4   5   6   7   8   9  10]\n",
            "[0 0 0 0 0 0 0 0 0 0 0]\n"
          ]
        }
      ]
    },
    {
      "cell_type": "code",
      "source": [
        "# copy\n",
        "array_copy = array.copy()\n",
        "print(array_copy)"
      ],
      "metadata": {
        "colab": {
          "base_uri": "https://localhost:8080/"
        },
        "id": "XV4KvxkebdC6",
        "outputId": "c8ade7a7-b256-45a0-c3f6-3eaeb5dcde69"
      },
      "execution_count": 13,
      "outputs": [
        {
          "output_type": "stream",
          "name": "stdout",
          "text": [
            "[0 0 0 0 0 0 0 0 0 0 0]\n"
          ]
        }
      ]
    },
    {
      "cell_type": "code",
      "source": [
        "array = np.arange(0,9)\n",
        "array = array.reshape(3,3)\n",
        "print(array[1,2])\n",
        "print(array[1][2])\n",
        "print(array[:2,1:])"
      ],
      "metadata": {
        "colab": {
          "base_uri": "https://localhost:8080/"
        },
        "id": "XMLUMiwLWznP",
        "outputId": "60d1e717-2db6-4a0e-9fe8-43fbf65eb7bc"
      },
      "execution_count": 14,
      "outputs": [
        {
          "output_type": "stream",
          "name": "stdout",
          "text": [
            "5\n",
            "5\n",
            "[[1 2]\n",
            " [4 5]]\n"
          ]
        }
      ]
    },
    {
      "cell_type": "code",
      "source": [
        "# array of true / false\n",
        "bool_array = array > 5 \n",
        "print(bool_array)\n",
        "# conditional selection\n",
        "print(array[bool_array])\n"
      ],
      "metadata": {
        "colab": {
          "base_uri": "https://localhost:8080/"
        },
        "id": "uU_67mu-qUqy",
        "outputId": "613b80a0-e848-4831-bff2-9ca606054037"
      },
      "execution_count": 15,
      "outputs": [
        {
          "output_type": "stream",
          "name": "stdout",
          "text": [
            "[[False False False]\n",
            " [False False False]\n",
            " [ True  True  True]]\n",
            "[6 7 8]\n"
          ]
        }
      ]
    },
    {
      "cell_type": "code",
      "source": [
        "array[:] = array[:] * 10\n",
        "print(array)"
      ],
      "metadata": {
        "colab": {
          "base_uri": "https://localhost:8080/"
        },
        "id": "NmUQOyRiNEzB",
        "outputId": "ed95db38-7f0e-4924-92ba-15643bf0e142"
      },
      "execution_count": 16,
      "outputs": [
        {
          "output_type": "stream",
          "name": "stdout",
          "text": [
            "[[ 0 10 20]\n",
            " [30 40 50]\n",
            " [60 70 80]]\n"
          ]
        }
      ]
    },
    {
      "cell_type": "code",
      "source": [
        "# Operations\n",
        "array_1 = np.arange(0,4)\n",
        "array_2 = np.arange(5,9)\n",
        "# add elements by elements\n",
        "print(array_1 + array_2)\n",
        "# substracts elements by elements\n",
        "print(array_1 - array_2)\n",
        "# multiply elements by elements\n",
        "print(array_1 * array_2)\n",
        "# add 100 to all elements\n",
        "print(array_1 + 100)\n",
        "# square of all elements\n",
        "print(array_1 ** 2)\n",
        "# square root\n",
        "print(np.sqrt(array_1))\n",
        "# exponential\n",
        "print(np.exp(array_1))\n",
        "# max\n",
        "print(array_1.max())\n",
        "# min\n",
        "print(array_1.min())\n",
        "# exponential\n",
        "print(np.sin(array_1))\n",
        "# log\n",
        "print(np.log(array_1))\n"
      ],
      "metadata": {
        "colab": {
          "base_uri": "https://localhost:8080/"
        },
        "id": "JWw_6CDwOmbT",
        "outputId": "cf984b9e-0968-4903-f592-c41772a882b0"
      },
      "execution_count": 25,
      "outputs": [
        {
          "output_type": "stream",
          "name": "stdout",
          "text": [
            "[ 5  7  9 11]\n",
            "[-5 -5 -5 -5]\n",
            "[ 0  6 14 24]\n",
            "[100 101 102 103]\n",
            "[0 1 4 9]\n",
            "[0.         1.         1.41421356 1.73205081]\n",
            "[ 1.          2.71828183  7.3890561  20.08553692]\n",
            "3\n",
            "0\n",
            "[0.         0.84147098 0.90929743 0.14112001]\n",
            "[      -inf 0.         0.69314718 1.09861229]\n"
          ]
        },
        {
          "output_type": "stream",
          "name": "stderr",
          "text": [
            "<ipython-input-25-8c1c69af0766>:25: RuntimeWarning: divide by zero encountered in log\n",
            "  print(np.log(array_1))\n"
          ]
        }
      ]
    }
  ]
}